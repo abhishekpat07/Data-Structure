{
  "nbformat": 4,
  "nbformat_minor": 0,
  "metadata": {
    "colab": {
      "provenance": [],
      "collapsed_sections": [
        "hqEegJjm-hzZ"
      ]
    },
    "kernelspec": {
      "name": "python3",
      "display_name": "Python 3"
    },
    "language_info": {
      "name": "python"
    }
  },
  "cells": [
    {
      "cell_type": "markdown",
      "source": [
        "#Data Structure\n"
      ],
      "metadata": {
        "id": "rnaGKPKn3S13"
      }
    },
    {
      "cell_type": "markdown",
      "source": [
        "#Q1. What are data structures, and why are they important?\n",
        "  - Data structures are organized ways to store, manage, and retrieve data efficiently. They define how data is arranged in memory and how operations like insertion, deletion, searching, and updating are performed.\n",
        "  It is important becauese:\n",
        "     1. Efficiency\n",
        "     2. Scalability\n",
        "     3. Problem Solving\n",
        "     4. Algorithm Design\n",
        "     5. Real World Applications\n",
        "\n"
      ],
      "metadata": {
        "id": "Vlo705xD3a5x"
      }
    },
    {
      "cell_type": "markdown",
      "source": [
        "#Q2.  Explain the difference between mutable and immutable data types with examples?\n",
        "- Mutable Data Type: Mutable data types are objects whose values can be modified after they are created. Ex- List, dict, set. It chabge are made in-place.\n",
        "- Immutable Data Type: Immutable data types are objects whose values cannot be modified after they are created. ex- int, float, str, tuple. Any modification creats a new object.\n"
      ],
      "metadata": {
        "id": "sa-hyKd-4m2r"
      }
    },
    {
      "cell_type": "markdown",
      "source": [
        "#Q3. What are the main differences between lists and tuples in Python?\n",
        "- list: When the data is expected to change or when you need dynamic operations (e.g., adding/removing elements).\n",
        "- When the data is fixed, needs to remain constant, or is used as a dictionary key."
      ],
      "metadata": {
        "id": "GbfJBwSO48Sd"
      }
    },
    {
      "cell_type": "markdown",
      "source": [
        "#Q4. Describe how dictionaries store data ?\n",
        "- A dictionary in Python is a data structure that stores data in the form of key-value pairs. Each key maps to a specific value, allowing efficient data retrieval. The underlying implementation is based on a hash table, which enables fast access to the values based on their keys.\n"
      ],
      "metadata": {
        "id": "E7HbL6j56rWW"
      }
    },
    {
      "cell_type": "markdown",
      "source": [
        "#Q5. Why might you use a set instead of a list in Python?\n",
        "- Because:\n",
        "1. Order Matters: Lists maintain the order of elements; sets do not.\n",
        "2. Duplicate Elements Are Needed: Lists allow duplicates.\n",
        "3. Indexing and Slicing: Lists support indexing and slicing, while sets do not."
      ],
      "metadata": {
        "id": "BMgEdtJY66Yn"
      }
    },
    {
      "cell_type": "markdown",
      "source": [
        "#Q6. What is a string in Python, and how is it different from a list?\n",
        "- A string in Python is a sequence of characters used to represent text data. Strings are:\n",
        "1. Immutable (cannot be changed after creation).\n",
        "2. Defined using single, double, or triple quotes.\n",
        "\n",
        "Strings are used to represent text data, such as names, sentences, file paths, etc. and list are used to store collections of items that may include numbers, text, objects etc."
      ],
      "metadata": {
        "id": "hqEegJjm-hzZ"
      }
    },
    {
      "cell_type": "markdown",
      "source": [],
      "metadata": {
        "id": "H8QZ8j4peUMC"
      }
    },
    {
      "cell_type": "markdown",
      "source": [
        "#Q7. How do tuples ensure data integrity in Python?\n",
        "- Tuples in Python are used to ensure data integrity primarily due to their immutability. The key feature of a tuple that guarantees data integrity is that once a tuple is created, it cannot be modified."
      ],
      "metadata": {
        "id": "k1lAgEhwefY4"
      }
    },
    {
      "cell_type": "markdown",
      "source": [
        "#8. What is a hash table, and how does it relate to dictionaries in Python?\n",
        "- A hash table is a data structure used to store key-value pairs, where each key is hashed using a hash function.\n",
        "In Python, dictionaries (dict) are implemented using hash tables. When you store a key-value pair in a dictionary, Python uses a hash table to efficiently map the key to its associated value."
      ],
      "metadata": {
        "id": "m6gwNKTTfUz4"
      }
    },
    {
      "cell_type": "markdown",
      "source": [
        "#9. Can lists contain different data types in Python?\n",
        "- Yes, lists in Python can contain different data types. This flexibility is one of the key features of Python lists. Unlike some other languages where arrays or lists must contain elements of the same data type, Python lists can store a mixture of data types in a single list."
      ],
      "metadata": {
        "id": "b84K5N55heHT"
      }
    },
    {
      "cell_type": "markdown",
      "source": [
        "#10. Explain why strings are immutable in Python.\n",
        "- In Python, strings are immutable, meaning that once a string is created, its content cannot be changed. The main reasons why strings are immutable in Python:\n",
        "1. Efficiency and Perfomance\n",
        "2. Hashability\n",
        "3. Security and Predicatability\n",
        "4. Ease of Concurrency\n",
        "5. Functional Programming principles"
      ],
      "metadata": {
        "id": "eTCdUMp6hpsk"
      }
    },
    {
      "cell_type": "markdown",
      "source": [
        "#11. What advantages do dictionaries offer over lists for certain tasks?\n",
        "- When you need fast lookups by unique identifiers (keys).\n",
        "- When you need to store data with an association between a key and a value.\n",
        "- When you need to ensure uniqueness for keys.\n",
        "- When you are working with more complex data structures (like nested dictionaries).\n",
        "\n",
        "\n"
      ],
      "metadata": {
        "id": "Dq73iYPliuBQ"
      }
    },
    {
      "cell_type": "markdown",
      "source": [
        "#12. Describe a scenario where using a tuple would be preferable over a list?\n",
        "- A tuple is preferable over a list in situations where:\n",
        "1. The data should not be changed after creation (immutability).\n",
        "2. when ensure data integrity and prevent accidental modification.\n",
        "3. When a slight performance boost, particularly when handling large datasets.\n",
        "\n"
      ],
      "metadata": {
        "id": "6k-5ERc0kMDa"
      }
    },
    {
      "cell_type": "markdown",
      "source": [
        "#13.How do sets handle duplicate values in Python?\n",
        "- In Python, sets automatically remove duplicate values. A set is a collection of unique elements, meaning that each element can appear only once within the set. When you attempt to add a duplicate element to a set, it is ignored, and the set remains unchanged."
      ],
      "metadata": {
        "id": "Nnae29ZZktT2"
      }
    },
    {
      "cell_type": "markdown",
      "source": [
        "#14.  How does the “in” keyword work differently for lists and dictionaries?\n",
        "- When using the \"in\" keyword, it checks for membership within a data structure, but in a list, it searches for a value within the ordered sequence of elements, while in a dictionary, it only checks if a specific key exists within the key-value pairs, not the values themselves; essentially, \"in\" looks for values in lists and keys in dictionaries."
      ],
      "metadata": {
        "id": "OxqWz1tvk77-"
      }
    },
    {
      "cell_type": "markdown",
      "source": [
        "#15.  Can you modify the elements of a tuple? Explain why or why not.\n",
        "- No, you cannot modify the elements of a tuple in Python. This is because tuples are immutable data structures. Once a tuple is created, its elements cannot be changed, added, or removed. This immutability is a key characteristic that distinguishes tuples from lists, which are mutable."
      ],
      "metadata": {
        "id": "XQU_UVCQlOPV"
      }
    },
    {
      "cell_type": "markdown",
      "source": [
        "#16.  What is a nested dictionary, and give an example of its use case?\n",
        "- A nested dictionary in Python is a dictionary that contains other dictionaries as its values. This allows for a hierarchical structure where each key-value pair can lead to more complex data stored within other dictionaries."
      ],
      "metadata": {
        "id": "BN-XPSsOl311"
      }
    },
    {
      "cell_type": "markdown",
      "source": [
        "#17. Describe the time complexity of accessing elements in a dictionary.\n",
        "- In Python, the time complexity of accessing elements in a dictionary is O(1) on average, meaning it takes constant time to retrieve a value based on its key. This is because Python dictionaries are implemented using hash tables, which allow for efficient lookups."
      ],
      "metadata": {
        "id": "St2HXQGfl_s8"
      }
    },
    {
      "cell_type": "markdown",
      "source": [
        "#18. In what situations are lists preferred over dictionaries?\n",
        "- While lists are useful in many cases, dictionaries are more suitable when:\n",
        "\n",
        "1. when need fast lookups based on a specific key (constant time access).\n",
        "2. when need to associate values with unique identifiers (keys).\n",
        "3. when data structure requires non-sequential access or involves multiple attributes per element."
      ],
      "metadata": {
        "id": "50RM1akTmMFE"
      }
    },
    {
      "cell_type": "markdown",
      "source": [
        "#19.  Why are dictionaries considered unordered, and how does that affect data retrieval?\n",
        "- Dictionaries in Python are considered unordered because the elements (key-value pairs) do not maintain any predictable or consistent order based on their insertion."
      ],
      "metadata": {
        "id": "aTUkFnuFmquE"
      }
    },
    {
      "cell_type": "markdown",
      "source": [
        "#20. Explain the difference between a list and a dictionary in terms of data retrieval.\n",
        "- A list is an ordered collection of items, whereas a dictionary is an unordered data collection in a key: value pair. Elements from the list can be accessed using the index, while the elements of the dictionary can be accessed using keys."
      ],
      "metadata": {
        "id": "hoJcrVXjm8km"
      }
    },
    {
      "cell_type": "markdown",
      "source": [
        "#Practical Questions"
      ],
      "metadata": {
        "id": "2O_3iLqJnX3o"
      }
    },
    {
      "cell_type": "code",
      "source": [
        "#1. Write a code to create a string with your name and print it\n",
        "\n",
        "name =\"Abhishek\"\n",
        "print(name)"
      ],
      "metadata": {
        "colab": {
          "base_uri": "https://localhost:8080/"
        },
        "id": "FL-0fGmqncaN",
        "outputId": "4dd107ca-bd0a-4b08-fde6-0119816568bb"
      },
      "execution_count": 1,
      "outputs": [
        {
          "output_type": "stream",
          "name": "stdout",
          "text": [
            "Abhishek\n"
          ]
        }
      ]
    },
    {
      "cell_type": "code",
      "source": [
        "#2. Write a code to find the length of the string \"Hello World\"\n",
        "\n",
        "string =\"Hello World\"\n",
        "length = len(string)\n",
        "print (\"length of the string:\", length)"
      ],
      "metadata": {
        "colab": {
          "base_uri": "https://localhost:8080/"
        },
        "id": "TL2bBbkioNft",
        "outputId": "1b4b049c-fe92-4747-9f87-92cea1e7b1ff"
      },
      "execution_count": 2,
      "outputs": [
        {
          "output_type": "stream",
          "name": "stdout",
          "text": [
            "length of the string: 11\n"
          ]
        }
      ]
    },
    {
      "cell_type": "code",
      "source": [
        "#3.  Write a code to slice the first 3 characters from the string \"Python Programming\".\n",
        "\n",
        "\n",
        "string = \"Python Programming\"\n",
        "sliced_string = string[:3]\n",
        "print(sliced_string)\n"
      ],
      "metadata": {
        "colab": {
          "base_uri": "https://localhost:8080/"
        },
        "id": "cDaVdCOxosLN",
        "outputId": "7581e359-809d-432c-9829-2b04ded068be"
      },
      "execution_count": 4,
      "outputs": [
        {
          "output_type": "stream",
          "name": "stdout",
          "text": [
            "Pyt\n"
          ]
        }
      ]
    },
    {
      "cell_type": "code",
      "source": [
        "#4. Write a code to convert the string \"hello\" to uppercase.\n",
        "\n",
        "\n",
        "string = \"hello\"\n",
        "uppercase_string = string.upper()\n",
        "print(uppercase_string)\n"
      ],
      "metadata": {
        "colab": {
          "base_uri": "https://localhost:8080/"
        },
        "id": "OdjfA8hdpAA8",
        "outputId": "b7c5b451-dc07-4bdd-f403-b99cf4641231"
      },
      "execution_count": 5,
      "outputs": [
        {
          "output_type": "stream",
          "name": "stdout",
          "text": [
            "HELLO\n"
          ]
        }
      ]
    },
    {
      "cell_type": "code",
      "source": [
        "#5. Write a code to replace the word \"apple\" with \"orange\" in the string \"I like apple\".\n",
        "\n",
        "\n",
        "string = \"I like apple\"\n",
        "new_string = string.replace(\"apple\", \"orange\")\n",
        "print(new_string)\n"
      ],
      "metadata": {
        "colab": {
          "base_uri": "https://localhost:8080/"
        },
        "id": "xUr9bKGopJla",
        "outputId": "764da3ed-9ca9-495e-d3ea-e897e0f4eaaf"
      },
      "execution_count": 6,
      "outputs": [
        {
          "output_type": "stream",
          "name": "stdout",
          "text": [
            "I like orange\n"
          ]
        }
      ]
    },
    {
      "cell_type": "code",
      "source": [
        "#6. Write a code to create a list with numbers 1 to 5 and print it.\n",
        "\n",
        "numbers = [1, 2, 3, 4, 5]\n",
        "print(numbers)\n"
      ],
      "metadata": {
        "colab": {
          "base_uri": "https://localhost:8080/"
        },
        "id": "_2jjkktOrTiA",
        "outputId": "ad535863-cfe5-454d-d9f5-0e75a6416fe5"
      },
      "execution_count": 7,
      "outputs": [
        {
          "output_type": "stream",
          "name": "stdout",
          "text": [
            "[1, 2, 3, 4, 5]\n"
          ]
        }
      ]
    },
    {
      "cell_type": "code",
      "source": [
        "#7. Write a code to append the number 10 to the list [1, 2, 3, 4]\n",
        "\n",
        "\n",
        "my_list = [1, 2, 3, 4]\n",
        "my_list.append(10)\n",
        "print(my_list)\n"
      ],
      "metadata": {
        "colab": {
          "base_uri": "https://localhost:8080/"
        },
        "id": "WIpmi2ZorjGP",
        "outputId": "40057269-db73-4dd5-a98b-d21c15b48bf7"
      },
      "execution_count": 8,
      "outputs": [
        {
          "output_type": "stream",
          "name": "stdout",
          "text": [
            "[1, 2, 3, 4, 10]\n"
          ]
        }
      ]
    },
    {
      "cell_type": "code",
      "source": [
        "#8. Write a code to remove the number 3 from the list [1, 2, 3, 4, 5]\n",
        "\n",
        "\n",
        "my_list = [1, 2, 3, 4, 5]\n",
        "my_list.remove(3)\n",
        "print(my_list)\n"
      ],
      "metadata": {
        "colab": {
          "base_uri": "https://localhost:8080/"
        },
        "id": "KUON0aZ_sN5Y",
        "outputId": "23b0871f-7d60-4746-e190-2e1525f53d7b"
      },
      "execution_count": 9,
      "outputs": [
        {
          "output_type": "stream",
          "name": "stdout",
          "text": [
            "[1, 2, 4, 5]\n"
          ]
        }
      ]
    },
    {
      "cell_type": "code",
      "source": [
        "#9. Write a code to access the second element in the list ['a', 'b', 'c', 'd']\n",
        "\n",
        "\n",
        "my_list = ['a', 'b', 'c', 'd']\n",
        "second_element = my_list[1]\n",
        "print(second_element)\n"
      ],
      "metadata": {
        "colab": {
          "base_uri": "https://localhost:8080/"
        },
        "id": "fkB6jHR1sNs1",
        "outputId": "bd86fa61-b2e7-47a7-d1d5-24f9fd9477c6"
      },
      "execution_count": 10,
      "outputs": [
        {
          "output_type": "stream",
          "name": "stdout",
          "text": [
            "b\n"
          ]
        }
      ]
    },
    {
      "cell_type": "code",
      "source": [
        "#10. Write a code to reverse the list [10, 20, 30, 40, 50]\\\n",
        "\n",
        "\n",
        "my_list = [10, 20, 30, 40, 50]\n",
        "reversed_list = my_list[::-1]\n",
        "print(reversed_list)\n"
      ],
      "metadata": {
        "colab": {
          "base_uri": "https://localhost:8080/"
        },
        "id": "ll-l8b4wsgc-",
        "outputId": "62853cdb-992d-4d45-bb41-18c03158e6de"
      },
      "execution_count": 11,
      "outputs": [
        {
          "output_type": "stream",
          "name": "stdout",
          "text": [
            "[50, 40, 30, 20, 10]\n"
          ]
        }
      ]
    },
    {
      "cell_type": "code",
      "source": [
        "#11. Write a code to create a tuple with the elements 10, 20, 30 and print it.\n",
        "\n",
        "my_tuple = (10, 20, 30)\n",
        "print(my_tuple)\n"
      ],
      "metadata": {
        "colab": {
          "base_uri": "https://localhost:8080/"
        },
        "id": "o0-h4i3VtcsU",
        "outputId": "0ee5f644-0abb-441a-a3f8-d58185229491"
      },
      "execution_count": 12,
      "outputs": [
        {
          "output_type": "stream",
          "name": "stdout",
          "text": [
            "(10, 20, 30)\n"
          ]
        }
      ]
    },
    {
      "cell_type": "code",
      "source": [
        "#12. Write a code to access the first element of the tuple ('apple', 'banana', 'cherry')\n",
        "\n",
        "\n",
        "my_tuple = ('apple', 'banana', 'cherry')\n",
        "first_element = my_tuple[0]\n",
        "print(first_element)\n"
      ],
      "metadata": {
        "colab": {
          "base_uri": "https://localhost:8080/"
        },
        "id": "l0l4ZoUPtpai",
        "outputId": "aff2944c-e8e3-496a-cb8b-b9c9a0c6d851"
      },
      "execution_count": 13,
      "outputs": [
        {
          "output_type": "stream",
          "name": "stdout",
          "text": [
            "apple\n"
          ]
        }
      ]
    },
    {
      "cell_type": "code",
      "source": [
        "#13. Write a code to count how many times the number 2 appears in the tuple (1, 2, 3, 2, 4, 2).\n",
        "\n",
        "\n",
        "my_tuple = (1, 2, 3, 2, 4, 2)\n",
        "count_of_2 = my_tuple.count(2)\n",
        "print(count_of_2)\n"
      ],
      "metadata": {
        "colab": {
          "base_uri": "https://localhost:8080/"
        },
        "id": "7TRaLcHSvQy3",
        "outputId": "d049b8d6-736d-4099-fd63-682c3c7c664f"
      },
      "execution_count": 14,
      "outputs": [
        {
          "output_type": "stream",
          "name": "stdout",
          "text": [
            "3\n"
          ]
        }
      ]
    },
    {
      "cell_type": "code",
      "source": [
        "#14. Write a code to find the index of the element \"cat\" in the tuple ('dog', 'cat', 'rabbit').\n",
        "\n",
        "\n",
        "my_tuple = ('dog', 'cat', 'rabbit')\n",
        "index_of_cat = my_tuple.index('cat')\n",
        "print(index_of_cat)\n"
      ],
      "metadata": {
        "colab": {
          "base_uri": "https://localhost:8080/"
        },
        "id": "aKbJnoL4xQYf",
        "outputId": "1b6b9f92-5b1f-4dff-c499-256103866793"
      },
      "execution_count": 15,
      "outputs": [
        {
          "output_type": "stream",
          "name": "stdout",
          "text": [
            "1\n"
          ]
        }
      ]
    },
    {
      "cell_type": "code",
      "source": [
        "#15. Write a code to check if the element \"banana\" is in the tuple ('apple', 'orange', 'banana').\n",
        "\n",
        "\n",
        "my_tuple = ('apple', 'orange', 'banana')\n",
        "if 'banana' in my_tuple:\n",
        "    print(\"Yes, 'banana' is in the tuple.\")\n",
        "else:\n",
        "    print(\"No, 'banana' is not in the tuple.\")\n"
      ],
      "metadata": {
        "colab": {
          "base_uri": "https://localhost:8080/"
        },
        "id": "RWzRK5e7xfEQ",
        "outputId": "3768e632-75d0-462a-f9e2-924448fbd04a"
      },
      "execution_count": 16,
      "outputs": [
        {
          "output_type": "stream",
          "name": "stdout",
          "text": [
            "Yes, 'banana' is in the tuple.\n"
          ]
        }
      ]
    },
    {
      "cell_type": "code",
      "source": [
        "#16. Write a code to create a set with the elements 1, 2, 3, 4, 5 and print it\n",
        "\n",
        "my_set = {1, 2, 3, 4, 5}\n",
        "print(my_set)\n"
      ],
      "metadata": {
        "colab": {
          "base_uri": "https://localhost:8080/"
        },
        "id": "ADPjN3QixvuN",
        "outputId": "a5b586a1-2b7b-4b07-91de-ae66a63560cb"
      },
      "execution_count": 17,
      "outputs": [
        {
          "output_type": "stream",
          "name": "stdout",
          "text": [
            "{1, 2, 3, 4, 5}\n"
          ]
        }
      ]
    },
    {
      "cell_type": "code",
      "source": [
        "#17. Write a code to add the element 6 to the set {1, 2, 3, 4}\n",
        "\n",
        "\n",
        "my_set = {1, 2, 3, 4}\n",
        "my_set.add(6)\n",
        "print(my_set)\n"
      ],
      "metadata": {
        "colab": {
          "base_uri": "https://localhost:8080/"
        },
        "id": "sIkQGRLdx_oK",
        "outputId": "007fe984-2330-4a46-e5db-514b95d7b56c"
      },
      "execution_count": 18,
      "outputs": [
        {
          "output_type": "stream",
          "name": "stdout",
          "text": [
            "{1, 2, 3, 4, 6}\n"
          ]
        }
      ]
    },
    {
      "cell_type": "code",
      "source": [
        "#18.  Write a code to create a tuple with the elements 10, 20, 30 and print it.\n",
        "\n",
        "\n",
        "my_tuple = (10, 20, 30)\n",
        "print(my_tuple)\n"
      ],
      "metadata": {
        "colab": {
          "base_uri": "https://localhost:8080/"
        },
        "id": "OFQNeEZ9yKgX",
        "outputId": "ea62418c-a5b1-4a36-b212-1bd2e77d75b5"
      },
      "execution_count": 19,
      "outputs": [
        {
          "output_type": "stream",
          "name": "stdout",
          "text": [
            "(10, 20, 30)\n"
          ]
        }
      ]
    },
    {
      "cell_type": "code",
      "source": [
        "#19. Write a code to access the first element of the tuple ('apple', 'banana', 'cherry').\n",
        "\n",
        "my_tuple = ('apple', 'banana', 'cherry')\n",
        "first_element = my_tuple[0]\n",
        "print(first_element)\n"
      ],
      "metadata": {
        "colab": {
          "base_uri": "https://localhost:8080/"
        },
        "id": "amfWHoMpyW4z",
        "outputId": "fca4479f-c903-41e9-c8be-f9b4bc772ffa"
      },
      "execution_count": 20,
      "outputs": [
        {
          "output_type": "stream",
          "name": "stdout",
          "text": [
            "apple\n"
          ]
        }
      ]
    },
    {
      "cell_type": "code",
      "source": [
        "#20. #Write a code to count how many times the number 2 appears in the tuple (1, 2, 3, 2, 4, 2\n",
        "\n",
        "\n",
        "my_tuple = (1, 2, 3, 2, 4, 2)\n",
        "count_of_2 = my_tuple.count(2)\n",
        "print(count_of_2)\n"
      ],
      "metadata": {
        "colab": {
          "base_uri": "https://localhost:8080/"
        },
        "id": "CJQarmO5yged",
        "outputId": "a6d01945-3ba4-4128-d5c8-8bca5fa38067"
      },
      "execution_count": 21,
      "outputs": [
        {
          "output_type": "stream",
          "name": "stdout",
          "text": [
            "3\n"
          ]
        }
      ]
    },
    {
      "cell_type": "code",
      "source": [
        "#21. Write a code to find the index of the element \"cat\" in the tuple ('dog', 'cat', 'rabbit').\n",
        "\n",
        "my_tuple = ('dog', 'cat', 'rabbit')\n",
        "index_of_cat = my_tuple.index('cat')\n",
        "print(index_of_cat)\n"
      ],
      "metadata": {
        "colab": {
          "base_uri": "https://localhost:8080/"
        },
        "id": "0MjjGQfgyyS9",
        "outputId": "a9721897-cd79-4c34-f943-2329aac1c312"
      },
      "execution_count": 22,
      "outputs": [
        {
          "output_type": "stream",
          "name": "stdout",
          "text": [
            "1\n"
          ]
        }
      ]
    },
    {
      "cell_type": "code",
      "source": [
        "#22. Write a code to check if the element \"banana\" is in the tuple ('apple', 'orange', 'banana')\n",
        "\n",
        "\n",
        "my_tuple = ('apple', 'orange', 'banana')\n",
        "if 'banana' in my_tuple:\n",
        "    print(\"Yes, 'banana' is in the tuple.\")\n",
        "else:\n",
        "    print(\"No, 'banana' is not in the tuple.\")\n"
      ],
      "metadata": {
        "colab": {
          "base_uri": "https://localhost:8080/"
        },
        "id": "3i4-DVzey_3d",
        "outputId": "f95c2d65-c396-4810-cd61-e4902c2c6fc7"
      },
      "execution_count": 23,
      "outputs": [
        {
          "output_type": "stream",
          "name": "stdout",
          "text": [
            "Yes, 'banana' is in the tuple.\n"
          ]
        }
      ]
    },
    {
      "cell_type": "code",
      "source": [
        "#23. Write a code to create a set with the elements 1, 2, 3, 4, 5 and print it.\n",
        "\n",
        "\n",
        "my_set = {1, 2, 3, 4, 5}\n",
        "print(my_set)\n"
      ],
      "metadata": {
        "colab": {
          "base_uri": "https://localhost:8080/"
        },
        "id": "YzdNZPWlzLwZ",
        "outputId": "f6c060ce-184a-450e-804f-c58b551641ed"
      },
      "execution_count": 24,
      "outputs": [
        {
          "output_type": "stream",
          "name": "stdout",
          "text": [
            "{1, 2, 3, 4, 5}\n"
          ]
        }
      ]
    },
    {
      "cell_type": "code",
      "source": [
        "#24. Write a code to add the element 6 to the set {1, 2, 3, 4}.\n",
        "\n",
        "\n",
        "my_set = {1, 2, 3, 4}\n",
        "my_set.add(6)\n",
        "print(my_set)\n"
      ],
      "metadata": {
        "colab": {
          "base_uri": "https://localhost:8080/"
        },
        "id": "V_SQm39CzXn7",
        "outputId": "cc8f387e-3e7e-487b-82cd-1afd0df2f7b6"
      },
      "execution_count": 25,
      "outputs": [
        {
          "output_type": "stream",
          "name": "stdout",
          "text": [
            "{1, 2, 3, 4, 6}\n"
          ]
        }
      ]
    },
    {
      "cell_type": "code",
      "source": [],
      "metadata": {
        "id": "J6LARTeVzhQI"
      },
      "execution_count": null,
      "outputs": []
    }
  ]
}